{
  "cells": [
    {
      "cell_type": "raw",
      "metadata": {},
      "source": [
        "---\n",
        "title: \"About Me\"\n",
        "---"
      ],
      "id": "e2f6c1c4"
    },
    {
      "cell_type": "markdown",
      "metadata": {},
      "source": [
        "    ```{css, echo = FALSE}\n",
        "    .center {\n",
        "      text-align: center;\n",
        "    }\n",
        "    ```\n",
        "\n",
        "\n",
        "I am a cell and systems biologist, by training, that fell in love with data. The utility, scope and speed of analytical processes today were dazzling which led to a career pivot to get closer to the action.\n",
        "\n",
        "I have always had a passion for learning and finding answers to novel questions that has pushed me to continously improve my analytical skills. I am proud to be self taught in the data tools I use today which, I believe is a testament to my drive and adaptability.\n",
        "\n",
        "### Experience {.center}\n",
        "\n",
        "Guillevin International \\| Data Specialist \\| 2022-Present\n",
        "\n",
        "University of Toronto \\| Research Assistant \\| 2021\n",
        "\n",
        "University of Toronto \\| Teaching Assistant \\| 2018-2020\n",
        "\n",
        "### Education\n",
        "\n",
        "University of Toronto, St. George \\| Toronto, ON \\| Master of Cell and Systems Biology \\| 2018-2020\n",
        "\n",
        "University of Toronto, St. George \\| Toronto, ON \\| Honors Bachelors of Science \\| 2014-2018"
      ],
      "id": "f7499c20"
    }
  ],
  "metadata": {
    "kernelspec": {
      "display_name": "Python 3",
      "language": "python",
      "name": "python3"
    }
  },
  "nbformat": 4,
  "nbformat_minor": 5
}